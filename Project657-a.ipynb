{
 "cells": [
  {
   "cell_type": "markdown",
   "metadata": {},
   "source": [
    "### Decision Tree Algorithms on Credit Card Fraud Detection"
   ]
  },
  {
   "cell_type": "code",
   "execution_count": 1,
   "metadata": {},
   "outputs": [
    {
     "data": {
      "text/html": [
       "<div>\n",
       "<style scoped>\n",
       "    .dataframe tbody tr th:only-of-type {\n",
       "        vertical-align: middle;\n",
       "    }\n",
       "\n",
       "    .dataframe tbody tr th {\n",
       "        vertical-align: top;\n",
       "    }\n",
       "\n",
       "    .dataframe thead th {\n",
       "        text-align: right;\n",
       "    }\n",
       "</style>\n",
       "<table border=\"1\" class=\"dataframe\">\n",
       "  <thead>\n",
       "    <tr style=\"text-align: right;\">\n",
       "      <th></th>\n",
       "      <th>Time</th>\n",
       "      <th>V1</th>\n",
       "      <th>V2</th>\n",
       "      <th>V3</th>\n",
       "      <th>V4</th>\n",
       "      <th>V5</th>\n",
       "      <th>V6</th>\n",
       "      <th>V7</th>\n",
       "      <th>V8</th>\n",
       "      <th>V9</th>\n",
       "      <th>...</th>\n",
       "      <th>V20</th>\n",
       "      <th>V21</th>\n",
       "      <th>V22</th>\n",
       "      <th>V23</th>\n",
       "      <th>V24</th>\n",
       "      <th>V25</th>\n",
       "      <th>V26</th>\n",
       "      <th>V27</th>\n",
       "      <th>V28</th>\n",
       "      <th>Amount</th>\n",
       "    </tr>\n",
       "  </thead>\n",
       "  <tbody>\n",
       "    <tr>\n",
       "      <th>0</th>\n",
       "      <td>0.0</td>\n",
       "      <td>-1.359807</td>\n",
       "      <td>-0.072781</td>\n",
       "      <td>2.536347</td>\n",
       "      <td>1.378155</td>\n",
       "      <td>-0.338321</td>\n",
       "      <td>0.462388</td>\n",
       "      <td>0.239599</td>\n",
       "      <td>0.098698</td>\n",
       "      <td>0.363787</td>\n",
       "      <td>...</td>\n",
       "      <td>0.251412</td>\n",
       "      <td>-0.018307</td>\n",
       "      <td>0.277838</td>\n",
       "      <td>-0.110474</td>\n",
       "      <td>0.066928</td>\n",
       "      <td>0.128539</td>\n",
       "      <td>-0.189115</td>\n",
       "      <td>0.133558</td>\n",
       "      <td>-0.021053</td>\n",
       "      <td>149.62</td>\n",
       "    </tr>\n",
       "    <tr>\n",
       "      <th>1</th>\n",
       "      <td>0.0</td>\n",
       "      <td>1.191857</td>\n",
       "      <td>0.266151</td>\n",
       "      <td>0.166480</td>\n",
       "      <td>0.448154</td>\n",
       "      <td>0.060018</td>\n",
       "      <td>-0.082361</td>\n",
       "      <td>-0.078803</td>\n",
       "      <td>0.085102</td>\n",
       "      <td>-0.255425</td>\n",
       "      <td>...</td>\n",
       "      <td>-0.069083</td>\n",
       "      <td>-0.225775</td>\n",
       "      <td>-0.638672</td>\n",
       "      <td>0.101288</td>\n",
       "      <td>-0.339846</td>\n",
       "      <td>0.167170</td>\n",
       "      <td>0.125895</td>\n",
       "      <td>-0.008983</td>\n",
       "      <td>0.014724</td>\n",
       "      <td>2.69</td>\n",
       "    </tr>\n",
       "    <tr>\n",
       "      <th>2</th>\n",
       "      <td>1.0</td>\n",
       "      <td>-1.358354</td>\n",
       "      <td>-1.340163</td>\n",
       "      <td>1.773209</td>\n",
       "      <td>0.379780</td>\n",
       "      <td>-0.503198</td>\n",
       "      <td>1.800499</td>\n",
       "      <td>0.791461</td>\n",
       "      <td>0.247676</td>\n",
       "      <td>-1.514654</td>\n",
       "      <td>...</td>\n",
       "      <td>0.524980</td>\n",
       "      <td>0.247998</td>\n",
       "      <td>0.771679</td>\n",
       "      <td>0.909412</td>\n",
       "      <td>-0.689281</td>\n",
       "      <td>-0.327642</td>\n",
       "      <td>-0.139097</td>\n",
       "      <td>-0.055353</td>\n",
       "      <td>-0.059752</td>\n",
       "      <td>378.66</td>\n",
       "    </tr>\n",
       "    <tr>\n",
       "      <th>3</th>\n",
       "      <td>1.0</td>\n",
       "      <td>-0.966272</td>\n",
       "      <td>-0.185226</td>\n",
       "      <td>1.792993</td>\n",
       "      <td>-0.863291</td>\n",
       "      <td>-0.010309</td>\n",
       "      <td>1.247203</td>\n",
       "      <td>0.237609</td>\n",
       "      <td>0.377436</td>\n",
       "      <td>-1.387024</td>\n",
       "      <td>...</td>\n",
       "      <td>-0.208038</td>\n",
       "      <td>-0.108300</td>\n",
       "      <td>0.005274</td>\n",
       "      <td>-0.190321</td>\n",
       "      <td>-1.175575</td>\n",
       "      <td>0.647376</td>\n",
       "      <td>-0.221929</td>\n",
       "      <td>0.062723</td>\n",
       "      <td>0.061458</td>\n",
       "      <td>123.50</td>\n",
       "    </tr>\n",
       "    <tr>\n",
       "      <th>4</th>\n",
       "      <td>2.0</td>\n",
       "      <td>-1.158233</td>\n",
       "      <td>0.877737</td>\n",
       "      <td>1.548718</td>\n",
       "      <td>0.403034</td>\n",
       "      <td>-0.407193</td>\n",
       "      <td>0.095921</td>\n",
       "      <td>0.592941</td>\n",
       "      <td>-0.270533</td>\n",
       "      <td>0.817739</td>\n",
       "      <td>...</td>\n",
       "      <td>0.408542</td>\n",
       "      <td>-0.009431</td>\n",
       "      <td>0.798278</td>\n",
       "      <td>-0.137458</td>\n",
       "      <td>0.141267</td>\n",
       "      <td>-0.206010</td>\n",
       "      <td>0.502292</td>\n",
       "      <td>0.219422</td>\n",
       "      <td>0.215153</td>\n",
       "      <td>69.99</td>\n",
       "    </tr>\n",
       "  </tbody>\n",
       "</table>\n",
       "<p>5 rows × 30 columns</p>\n",
       "</div>"
      ],
      "text/plain": [
       "   Time        V1        V2        V3        V4        V5        V6        V7  \\\n",
       "0   0.0 -1.359807 -0.072781  2.536347  1.378155 -0.338321  0.462388  0.239599   \n",
       "1   0.0  1.191857  0.266151  0.166480  0.448154  0.060018 -0.082361 -0.078803   \n",
       "2   1.0 -1.358354 -1.340163  1.773209  0.379780 -0.503198  1.800499  0.791461   \n",
       "3   1.0 -0.966272 -0.185226  1.792993 -0.863291 -0.010309  1.247203  0.237609   \n",
       "4   2.0 -1.158233  0.877737  1.548718  0.403034 -0.407193  0.095921  0.592941   \n",
       "\n",
       "         V8        V9   ...         V20       V21       V22       V23  \\\n",
       "0  0.098698  0.363787   ...    0.251412 -0.018307  0.277838 -0.110474   \n",
       "1  0.085102 -0.255425   ...   -0.069083 -0.225775 -0.638672  0.101288   \n",
       "2  0.247676 -1.514654   ...    0.524980  0.247998  0.771679  0.909412   \n",
       "3  0.377436 -1.387024   ...   -0.208038 -0.108300  0.005274 -0.190321   \n",
       "4 -0.270533  0.817739   ...    0.408542 -0.009431  0.798278 -0.137458   \n",
       "\n",
       "        V24       V25       V26       V27       V28  Amount  \n",
       "0  0.066928  0.128539 -0.189115  0.133558 -0.021053  149.62  \n",
       "1 -0.339846  0.167170  0.125895 -0.008983  0.014724    2.69  \n",
       "2 -0.689281 -0.327642 -0.139097 -0.055353 -0.059752  378.66  \n",
       "3 -1.175575  0.647376 -0.221929  0.062723  0.061458  123.50  \n",
       "4  0.141267 -0.206010  0.502292  0.219422  0.215153   69.99  \n",
       "\n",
       "[5 rows x 30 columns]"
      ]
     },
     "execution_count": 1,
     "metadata": {},
     "output_type": "execute_result"
    }
   ],
   "source": [
    "import numpy as np  \n",
    "import matplotlib.pyplot as plt  \n",
    "import pandas as pd  \n",
    "from sklearn.metrics import accuracy_score\n",
    "from sklearn.metrics import f1_score\n",
    "from sklearn.metrics import recall_score\n",
    "from sklearn.model_selection import RepeatedKFold\n",
    "from sklearn.model_selection import train_test_split \n",
    "from sklearn.neighbors import KNeighborsClassifier \n",
    "from sklearn.tree import DecisionTreeClassifier\n",
    "from sklearn.ensemble import RandomForestClassifier\n",
    "from sklearn.metrics import accuracy_score\n",
    "from sklearn.metrics import classification_report, confusion_matrix \n",
    "from sklearn import preprocessing\n",
    "from sklearn.preprocessing import MinMaxScaler\n",
    "import collections\n",
    "from imblearn.under_sampling import RandomUnderSampler\n",
    "from imblearn.over_sampling import SMOTE\n",
    "\n",
    "df= pd.read_csv(\"/Users/navnigupta/Downloads/creditcard.csv\")\n",
    "pd.DataFrame(X)\n",
    "X.head()"
   ]
  },
  {
   "cell_type": "markdown",
   "metadata": {},
   "source": [
    "### Calculating Accuracy for 10% of the dataset"
   ]
  },
  {
   "cell_type": "code",
   "execution_count": 21,
   "metadata": {},
   "outputs": [
    {
     "data": {
      "text/html": [
       "<div>\n",
       "<style scoped>\n",
       "    .dataframe tbody tr th:only-of-type {\n",
       "        vertical-align: middle;\n",
       "    }\n",
       "\n",
       "    .dataframe tbody tr th {\n",
       "        vertical-align: top;\n",
       "    }\n",
       "\n",
       "    .dataframe thead th {\n",
       "        text-align: right;\n",
       "    }\n",
       "</style>\n",
       "<table border=\"1\" class=\"dataframe\">\n",
       "  <thead>\n",
       "    <tr style=\"text-align: right;\">\n",
       "      <th></th>\n",
       "      <th>Time</th>\n",
       "      <th>V1</th>\n",
       "      <th>V2</th>\n",
       "      <th>V3</th>\n",
       "      <th>V4</th>\n",
       "      <th>V5</th>\n",
       "      <th>V6</th>\n",
       "      <th>V7</th>\n",
       "      <th>V8</th>\n",
       "      <th>V9</th>\n",
       "      <th>...</th>\n",
       "      <th>V21</th>\n",
       "      <th>V22</th>\n",
       "      <th>V23</th>\n",
       "      <th>V24</th>\n",
       "      <th>V25</th>\n",
       "      <th>V26</th>\n",
       "      <th>V27</th>\n",
       "      <th>V28</th>\n",
       "      <th>Amount</th>\n",
       "      <th>Class</th>\n",
       "    </tr>\n",
       "  </thead>\n",
       "  <tbody>\n",
       "    <tr>\n",
       "      <th>271866</th>\n",
       "      <td>164788.0</td>\n",
       "      <td>-0.257399</td>\n",
       "      <td>0.940905</td>\n",
       "      <td>0.249592</td>\n",
       "      <td>-0.722777</td>\n",
       "      <td>0.404399</td>\n",
       "      <td>-0.903941</td>\n",
       "      <td>0.858160</td>\n",
       "      <td>-0.044232</td>\n",
       "      <td>-0.094785</td>\n",
       "      <td>...</td>\n",
       "      <td>-0.233322</td>\n",
       "      <td>-0.476642</td>\n",
       "      <td>0.087181</td>\n",
       "      <td>0.062880</td>\n",
       "      <td>-0.482811</td>\n",
       "      <td>0.120201</td>\n",
       "      <td>0.344374</td>\n",
       "      <td>0.157091</td>\n",
       "      <td>0.99</td>\n",
       "      <td>0</td>\n",
       "    </tr>\n",
       "    <tr>\n",
       "      <th>3274</th>\n",
       "      <td>2822.0</td>\n",
       "      <td>1.175695</td>\n",
       "      <td>0.114254</td>\n",
       "      <td>0.494600</td>\n",
       "      <td>0.459372</td>\n",
       "      <td>-0.283004</td>\n",
       "      <td>-0.210279</td>\n",
       "      <td>-0.157352</td>\n",
       "      <td>0.111676</td>\n",
       "      <td>-0.134934</td>\n",
       "      <td>...</td>\n",
       "      <td>-0.185103</td>\n",
       "      <td>-0.562422</td>\n",
       "      <td>0.160712</td>\n",
       "      <td>-0.002423</td>\n",
       "      <td>0.096507</td>\n",
       "      <td>0.108889</td>\n",
       "      <td>-0.019816</td>\n",
       "      <td>0.004074</td>\n",
       "      <td>0.89</td>\n",
       "      <td>0</td>\n",
       "    </tr>\n",
       "    <tr>\n",
       "      <th>207786</th>\n",
       "      <td>136834.0</td>\n",
       "      <td>-1.281949</td>\n",
       "      <td>-0.880971</td>\n",
       "      <td>1.572680</td>\n",
       "      <td>0.473729</td>\n",
       "      <td>-0.510753</td>\n",
       "      <td>0.464929</td>\n",
       "      <td>-1.479577</td>\n",
       "      <td>0.906947</td>\n",
       "      <td>1.162604</td>\n",
       "      <td>...</td>\n",
       "      <td>0.302678</td>\n",
       "      <td>1.342682</td>\n",
       "      <td>0.752444</td>\n",
       "      <td>-0.251354</td>\n",
       "      <td>-1.191929</td>\n",
       "      <td>0.739599</td>\n",
       "      <td>0.144849</td>\n",
       "      <td>0.097928</td>\n",
       "      <td>0.00</td>\n",
       "      <td>0</td>\n",
       "    </tr>\n",
       "    <tr>\n",
       "      <th>235011</th>\n",
       "      <td>148204.0</td>\n",
       "      <td>-0.475049</td>\n",
       "      <td>1.464148</td>\n",
       "      <td>-0.788750</td>\n",
       "      <td>-0.646772</td>\n",
       "      <td>0.593761</td>\n",
       "      <td>-0.627782</td>\n",
       "      <td>0.583620</td>\n",
       "      <td>0.415496</td>\n",
       "      <td>-0.416506</td>\n",
       "      <td>...</td>\n",
       "      <td>-0.261571</td>\n",
       "      <td>-0.666255</td>\n",
       "      <td>0.151984</td>\n",
       "      <td>0.678736</td>\n",
       "      <td>-0.366624</td>\n",
       "      <td>0.091093</td>\n",
       "      <td>0.210629</td>\n",
       "      <td>0.068806</td>\n",
       "      <td>9.98</td>\n",
       "      <td>0</td>\n",
       "    </tr>\n",
       "    <tr>\n",
       "      <th>153762</th>\n",
       "      <td>100004.0</td>\n",
       "      <td>1.970126</td>\n",
       "      <td>0.112834</td>\n",
       "      <td>-1.618409</td>\n",
       "      <td>1.432961</td>\n",
       "      <td>0.569400</td>\n",
       "      <td>-0.616603</td>\n",
       "      <td>0.371828</td>\n",
       "      <td>-0.255648</td>\n",
       "      <td>1.465385</td>\n",
       "      <td>...</td>\n",
       "      <td>-0.074245</td>\n",
       "      <td>0.110816</td>\n",
       "      <td>-0.044404</td>\n",
       "      <td>-0.489382</td>\n",
       "      <td>0.392147</td>\n",
       "      <td>-0.522580</td>\n",
       "      <td>-0.059049</td>\n",
       "      <td>-0.081366</td>\n",
       "      <td>29.70</td>\n",
       "      <td>0</td>\n",
       "    </tr>\n",
       "  </tbody>\n",
       "</table>\n",
       "<p>5 rows × 31 columns</p>\n",
       "</div>"
      ],
      "text/plain": [
       "            Time        V1        V2        V3        V4        V5        V6  \\\n",
       "271866  164788.0 -0.257399  0.940905  0.249592 -0.722777  0.404399 -0.903941   \n",
       "3274      2822.0  1.175695  0.114254  0.494600  0.459372 -0.283004 -0.210279   \n",
       "207786  136834.0 -1.281949 -0.880971  1.572680  0.473729 -0.510753  0.464929   \n",
       "235011  148204.0 -0.475049  1.464148 -0.788750 -0.646772  0.593761 -0.627782   \n",
       "153762  100004.0  1.970126  0.112834 -1.618409  1.432961  0.569400 -0.616603   \n",
       "\n",
       "              V7        V8        V9  ...         V21       V22       V23  \\\n",
       "271866  0.858160 -0.044232 -0.094785  ...   -0.233322 -0.476642  0.087181   \n",
       "3274   -0.157352  0.111676 -0.134934  ...   -0.185103 -0.562422  0.160712   \n",
       "207786 -1.479577  0.906947  1.162604  ...    0.302678  1.342682  0.752444   \n",
       "235011  0.583620  0.415496 -0.416506  ...   -0.261571 -0.666255  0.151984   \n",
       "153762  0.371828 -0.255648  1.465385  ...   -0.074245  0.110816 -0.044404   \n",
       "\n",
       "             V24       V25       V26       V27       V28  Amount  Class  \n",
       "271866  0.062880 -0.482811  0.120201  0.344374  0.157091    0.99      0  \n",
       "3274   -0.002423  0.096507  0.108889 -0.019816  0.004074    0.89      0  \n",
       "207786 -0.251354 -1.191929  0.739599  0.144849  0.097928    0.00      0  \n",
       "235011  0.678736 -0.366624  0.091093  0.210629  0.068806    9.98      0  \n",
       "153762 -0.489382  0.392147 -0.522580 -0.059049 -0.081366   29.70      0  \n",
       "\n",
       "[5 rows x 31 columns]"
      ]
     },
     "execution_count": 21,
     "metadata": {},
     "output_type": "execute_result"
    }
   ],
   "source": [
    "df_new = df.sample(frac=0.1)\n",
    "X = df_new.iloc[:,:-1]\n",
    "y = df_new.iloc[:,-1]\n",
    "df_new.loc[df_new['Class'] == 1]\n",
    "df_new.head()"
   ]
  },
  {
   "cell_type": "code",
   "execution_count": 6,
   "metadata": {},
   "outputs": [],
   "source": [
    "X_train, X_test, y_train, y_test = train_test_split(X, y, test_size=0.33, random_state=42)"
   ]
  },
  {
   "cell_type": "code",
   "execution_count": 7,
   "metadata": {},
   "outputs": [
    {
     "name": "stdout",
     "output_type": "stream",
     "text": [
      "depth:  13 train:  1.0\n",
      "depth:  13 test:  0.9991488456218747\n"
     ]
    }
   ],
   "source": [
    "max_test_score = 0\n",
    "MaxDepth=[]\n",
    "TestScore=[]\n",
    "TrainScore=[]\n",
    "for i in range(1, 20):\n",
    "    MaxDepth.append(i)\n",
    "    clf_dt = DecisionTreeClassifier(max_depth=i)\n",
    "    clf_dt.fit(X_train, y_train)\n",
    "    train_score = clf_dt.score(X_train, y_train)\n",
    "    test_score = clf_dt.score(X_test, y_test)\n",
    "    TestScore.append(test_score)\n",
    "    TrainScore.append(train_score)\n",
    "    if test_score > max_test_score:\n",
    "        related_train_score = train_score\n",
    "        max_test_score = test_score\n",
    "        max_i = i\n",
    "        best_clf_dt = clf_dt\n",
    "print(\"depth: \", max_i, \"train: \", related_train_score)\n",
    "print(\"depth: \", max_i, \"test: \", max_test_score)"
   ]
  },
  {
   "cell_type": "code",
   "execution_count": 8,
   "metadata": {},
   "outputs": [
    {
     "data": {
      "text/plain": [
       "0.9995283513258568"
      ]
     },
     "execution_count": 8,
     "metadata": {},
     "output_type": "execute_result"
    }
   ],
   "source": [
    "clf_gini = DecisionTreeClassifier(class_weight=None, criterion='gini', max_depth=13, max_features=None, max_leaf_nodes=None, min_samples_leaf=5, min_samples_split=2, min_weight_fraction_leaf=0.0, presort=False, random_state=100, splitter='best')\n",
    "clf_gini.fit(X_train, y_train)\n",
    "clf_gini.score(X_train, y_train)"
   ]
  },
  {
   "cell_type": "code",
   "execution_count": 9,
   "metadata": {},
   "outputs": [
    {
     "data": {
      "text/plain": [
       "array([0, 0, 0, ..., 0, 0, 0])"
      ]
     },
     "execution_count": 9,
     "metadata": {},
     "output_type": "execute_result"
    }
   ],
   "source": [
    "y_pred_en_gini = clf_gini.predict(X_test)\n",
    "y_pred_en_gini"
   ]
  },
  {
   "cell_type": "code",
   "execution_count": 36,
   "metadata": {},
   "outputs": [
    {
     "name": "stdout",
     "output_type": "stream",
     "text": [
      "[[9386   22]\n",
      " [  14 9339]]\n",
      "\t\tConfusion matrix for CART taking 10% of original data\n",
      "              precision    recall  f1-score   support\n",
      "\n",
      "           0       1.00      1.00      1.00      9408\n",
      "           1       1.00      1.00      1.00      9353\n",
      "\n",
      "   micro avg       1.00      1.00      1.00     18761\n",
      "   macro avg       1.00      1.00      1.00     18761\n",
      "weighted avg       1.00      1.00      1.00     18761\n",
      "\n"
     ]
    }
   ],
   "source": [
    "print(confusion_matrix(y_test, y_pred_en_gini))  \n",
    "print(\"\\t\\tConfusion matrix for CART taking 10% of original data\")\n",
    "print(classification_report(y_test, y_pred_en_gini)) "
   ]
  },
  {
   "cell_type": "markdown",
   "metadata": {},
   "source": [
    "### Implementing Under Sampling\n",
    "In this we have done under sampling to deal with the highly imbalanced dataset. So under sampling gives equal number of majority and minority class samples which are equal to number of minority class samples of the original dataset.\n",
    "Here we have two classes fraudelent and non-fraudalent where fraudelent is the minority class represented by 1 and non-fraudalent is majority class represented by 0."
   ]
  },
  {
   "cell_type": "code",
   "execution_count": 24,
   "metadata": {},
   "outputs": [
    {
     "name": "stdout",
     "output_type": "stream",
     "text": [
      "[(0, 56), (1, 56)]\n"
     ]
    }
   ],
   "source": [
    "rus = RandomUnderSampler(random_state=0)\n",
    "X_resampled_U, y_resampled_U = rus.fit_resample(X, y)\n",
    "print(sorted(collections.Counter(y_resampled_U).items()))"
   ]
  },
  {
   "cell_type": "code",
   "execution_count": 25,
   "metadata": {},
   "outputs": [],
   "source": [
    "X_train, X_test, y_train, y_test = train_test_split(X_resampled_U, y_resampled_U, test_size=0.33, random_state=42)"
   ]
  },
  {
   "cell_type": "code",
   "execution_count": 26,
   "metadata": {},
   "outputs": [
    {
     "name": "stdout",
     "output_type": "stream",
     "text": [
      "depth:  1 train:  0.9733333333333334\n",
      "depth:  1 test:  0.9459459459459459\n"
     ]
    }
   ],
   "source": [
    "max_test_score = 0\n",
    "MaxDepth=[]\n",
    "TestScore=[]\n",
    "TrainScore=[]\n",
    "for i in range(1, 20):\n",
    "    MaxDepth.append(i)\n",
    "    clf_dt = DecisionTreeClassifier(max_depth=i)\n",
    "    clf_dt.fit(X_train, y_train)\n",
    "    train_score = clf_dt.score(X_train, y_train)\n",
    "    test_score = clf_dt.score(X_test, y_test)\n",
    "    TestScore.append(test_score)\n",
    "    TrainScore.append(train_score)\n",
    "    if test_score > max_test_score:\n",
    "        related_train_score = train_score\n",
    "        max_test_score = test_score\n",
    "        max_i = i\n",
    "        best_clf_dt = clf_dt\n",
    "print(\"depth: \", max_i, \"train: \", related_train_score)\n",
    "print(\"depth: \", max_i, \"test: \", max_test_score)"
   ]
  },
  {
   "cell_type": "code",
   "execution_count": 27,
   "metadata": {},
   "outputs": [
    {
     "name": "stdout",
     "output_type": "stream",
     "text": [
      "The train score is 0.9733333333333334\n"
     ]
    }
   ],
   "source": [
    "clf_gini = DecisionTreeClassifier(class_weight=None, criterion='gini', max_depth=1, max_features=None, max_leaf_nodes=None, min_samples_leaf=5, min_samples_split=2, min_weight_fraction_leaf=0.0, presort=False, random_state=100, splitter='best')\n",
    "clf_gini.fit(X_train, y_train)\n",
    "print(\"The train score is\",clf_gini.score(X_train, y_train))"
   ]
  },
  {
   "cell_type": "code",
   "execution_count": 28,
   "metadata": {},
   "outputs": [
    {
     "data": {
      "text/plain": [
       "array([0, 0, 0, 0, 0, 1, 0, 0, 0, 0, 1, 0, 1, 1, 0, 0, 0, 1, 1, 1, 0, 0,\n",
       "       0, 1, 1, 1, 0, 1, 1, 1, 0, 0, 0, 0, 0, 0, 1])"
      ]
     },
     "execution_count": 28,
     "metadata": {},
     "output_type": "execute_result"
    }
   ],
   "source": [
    "y_pred_en_gini = clf_gini.predict(X_test)\n",
    "y_pred_en_gini"
   ]
  },
  {
   "cell_type": "code",
   "execution_count": 37,
   "metadata": {},
   "outputs": [
    {
     "name": "stdout",
     "output_type": "stream",
     "text": [
      "[[9386   22]\n",
      " [  14 9339]]\n",
      "\tClassification Report for CART with under sampling of 10% data\n",
      "              precision    recall  f1-score   support\n",
      "\n",
      "           0       1.00      1.00      1.00      9408\n",
      "           1       1.00      1.00      1.00      9353\n",
      "\n",
      "   micro avg       1.00      1.00      1.00     18761\n",
      "   macro avg       1.00      1.00      1.00     18761\n",
      "weighted avg       1.00      1.00      1.00     18761\n",
      "\n"
     ]
    }
   ],
   "source": [
    "print(confusion_matrix(y_test, y_pred_en_gini))  \n",
    "print(\"\\tClassification Report for CART with under sampling of 10% data\")\n",
    "print(classification_report(y_test, y_pred_en_gini)) "
   ]
  },
  {
   "cell_type": "markdown",
   "metadata": {},
   "source": [
    "### Implementing Oversampling\n",
    "In this we have done over sampling to deal with the highly imbalanced dataset. So over sampling gives equal number of majority and minority class samples which are equal to number of majority class samples of the original dataset. Here we have two classes fraudelent and non-fraudalent where fraudelent is the minority class represented by 1 and non-fraudalent is majority class represented by 0. As the size of the dataset has been increased (double the size of original dataset) and hence taking a lot of time to implement decision tree algorithms,so to deal with this we have taken a sample having equal distribution of fraudelent and non fraudelent data."
   ]
  },
  {
   "cell_type": "code",
   "execution_count": 30,
   "metadata": {},
   "outputs": [
    {
     "name": "stdout",
     "output_type": "stream",
     "text": [
      "[(0, 28425), (1, 28425)]\n"
     ]
    }
   ],
   "source": [
    "X_resampled_O, y_resampled_O = SMOTE().fit_resample(X, y)\n",
    "print(sorted(collections.Counter(y_resampled_O).items()))"
   ]
  },
  {
   "cell_type": "code",
   "execution_count": 31,
   "metadata": {},
   "outputs": [],
   "source": [
    "X_train, X_test, y_train, y_test = train_test_split(X_resampled_O, y_resampled_O, test_size=0.33, random_state=42)"
   ]
  },
  {
   "cell_type": "code",
   "execution_count": 32,
   "metadata": {},
   "outputs": [
    {
     "name": "stdout",
     "output_type": "stream",
     "text": [
      "depth:  14 train:  0.9996849484103022\n",
      "depth:  14 test:  0.998774052555834\n"
     ]
    }
   ],
   "source": [
    "max_test_score = 0\n",
    "MaxDepth=[]\n",
    "TestScore=[]\n",
    "TrainScore=[]\n",
    "for i in range(1, 20):\n",
    "    MaxDepth.append(i)\n",
    "    clf_dt = DecisionTreeClassifier(max_depth=i)\n",
    "    clf_dt.fit(X_train, y_train)\n",
    "    train_score = clf_dt.score(X_train, y_train)\n",
    "    test_score = clf_dt.score(X_test, y_test)\n",
    "    TestScore.append(test_score)\n",
    "    TrainScore.append(train_score)\n",
    "    if test_score > max_test_score:\n",
    "        related_train_score = train_score\n",
    "        max_test_score = test_score\n",
    "        max_i = i\n",
    "        best_clf_dt = clf_dt\n",
    "print(\"depth: \", max_i, \"train: \", related_train_score)\n",
    "print(\"depth: \", max_i, \"test: \", max_test_score)"
   ]
  },
  {
   "cell_type": "code",
   "execution_count": 33,
   "metadata": {},
   "outputs": [
    {
     "name": "stdout",
     "output_type": "stream",
     "text": [
      "The train score is 0.9992123710257554\n"
     ]
    }
   ],
   "source": [
    "clf_gini = DecisionTreeClassifier(class_weight=None, criterion='gini', max_depth=14, max_features=None, max_leaf_nodes=None, min_samples_leaf=5, min_samples_split=2, min_weight_fraction_leaf=0.0, presort=False, random_state=100, splitter='best')\n",
    "clf_gini.fit(X_train, y_train)\n",
    "print(\"The train score is\",clf_gini.score(X_train, y_train))"
   ]
  },
  {
   "cell_type": "code",
   "execution_count": 34,
   "metadata": {},
   "outputs": [
    {
     "data": {
      "text/plain": [
       "array([0, 0, 1, ..., 1, 0, 1])"
      ]
     },
     "execution_count": 34,
     "metadata": {},
     "output_type": "execute_result"
    }
   ],
   "source": [
    "y_pred_en_gini = clf_gini.predict(X_test)\n",
    "y_pred_en_gini"
   ]
  },
  {
   "cell_type": "code",
   "execution_count": 38,
   "metadata": {},
   "outputs": [
    {
     "name": "stdout",
     "output_type": "stream",
     "text": [
      "[[9386   22]\n",
      " [  14 9339]]\n",
      "\tClassification Report for CART with over sampling of 10% data\n",
      "              precision    recall  f1-score   support\n",
      "\n",
      "           0       1.00      1.00      1.00      9408\n",
      "           1       1.00      1.00      1.00      9353\n",
      "\n",
      "   micro avg       1.00      1.00      1.00     18761\n",
      "   macro avg       1.00      1.00      1.00     18761\n",
      "weighted avg       1.00      1.00      1.00     18761\n",
      "\n"
     ]
    }
   ],
   "source": [
    "print(confusion_matrix(y_test, y_pred_en_gini))  \n",
    "print(\"\\tClassification Report for CART with over sampling of 10% data\")\n",
    "print(classification_report(y_test, y_pred_en_gini)) "
   ]
  },
  {
   "cell_type": "code",
   "execution_count": null,
   "metadata": {},
   "outputs": [],
   "source": []
  }
 ],
 "metadata": {
  "kernelspec": {
   "display_name": "Python 3",
   "language": "python",
   "name": "python3"
  },
  "language_info": {
   "codemirror_mode": {
    "name": "ipython",
    "version": 3
   },
   "file_extension": ".py",
   "mimetype": "text/x-python",
   "name": "python",
   "nbconvert_exporter": "python",
   "pygments_lexer": "ipython3",
   "version": "3.6.8"
  }
 },
 "nbformat": 4,
 "nbformat_minor": 2
}
