{
 "cells": [
  {
   "cell_type": "code",
   "execution_count": 15,
   "metadata": {},
   "outputs": [],
   "source": [
    "import numpy as np  \n",
    "import matplotlib.pyplot as plt \n",
    "import os\n",
    "import gc\n",
    "import psutil\n",
    "import pandas as pd  \n",
    "from sklearn.metrics import accuracy_score\n",
    "from sklearn.metrics import f1_score\n",
    "from sklearn.metrics import recall_score\n",
    "from sklearn.model_selection import RepeatedKFold\n",
    "from sklearn.model_selection import train_test_split \n",
    "from sklearn.neighbors import KNeighborsClassifier \n",
    "from sklearn.tree import DecisionTreeClassifier\n",
    "from sklearn.ensemble import RandomForestClassifier\n",
    "from sklearn.metrics import accuracy_score\n",
    "from sklearn.metrics import classification_report, confusion_matrix \n",
    "from sklearn import preprocessing\n",
    "from sklearn.preprocessing import MinMaxScaler\n",
    "import collections\n",
    "from sklearn.tree import export_graphviz\n",
    "import seaborn as sns   \n",
    "from sklearn.tree import export_graphviz\n",
    "from sklearn.externals.six import StringIO  \n",
    "from IPython.display import Image  \n",
    "import pydotplus\n",
    "from sklearn.metrics import roc_auc_score\n",
    "from sklearn.metrics import roc_curve, auc\n",
    "from sklearn.model_selection import GridSearchCV, cross_val_score\n",
    "from sklearn.metrics import roc_auc_score\n",
    "from sklearn.metrics import roc_curve, auc\n",
    "from imblearn.under_sampling import RandomUnderSampler\n",
    "from imblearn.over_sampling import SMOTE\n",
    "import matplotlib.gridspec as gridspec\n",
    "import timeit\n",
    "from sklearn.metrics import mean_squared_error\n",
    "from sklearn.model_selection import validation_curve\n",
    "from sklearn.model_selection import learning_curve\n",
    "from sklearn.model_selection import ShuffleSplit\n",
    "%matplotlib inline"
   ]
  },
  {
   "cell_type": "code",
   "execution_count": 47,
   "metadata": {
    "scrolled": true
   },
   "outputs": [
    {
     "name": "stdout",
     "output_type": "stream",
     "text": [
      "(400, 26)\n"
     ]
    },
    {
     "data": {
      "text/html": [
       "<div>\n",
       "<style scoped>\n",
       "    .dataframe tbody tr th:only-of-type {\n",
       "        vertical-align: middle;\n",
       "    }\n",
       "\n",
       "    .dataframe tbody tr th {\n",
       "        vertical-align: top;\n",
       "    }\n",
       "\n",
       "    .dataframe thead th {\n",
       "        text-align: right;\n",
       "    }\n",
       "</style>\n",
       "<table border=\"1\" class=\"dataframe\">\n",
       "  <thead>\n",
       "    <tr style=\"text-align: right;\">\n",
       "      <th></th>\n",
       "      <th>'age'</th>\n",
       "      <th>'bp'</th>\n",
       "      <th>'sg'</th>\n",
       "      <th>'al'</th>\n",
       "      <th>'su'</th>\n",
       "      <th>'rbc'</th>\n",
       "      <th>'pc'</th>\n",
       "      <th>'pcc'</th>\n",
       "      <th>'ba'</th>\n",
       "      <th>'bgr'</th>\n",
       "      <th>...</th>\n",
       "      <th>'pcv'</th>\n",
       "      <th>'wbcc'</th>\n",
       "      <th>'rbcc'</th>\n",
       "      <th>'htn'</th>\n",
       "      <th>'dm'</th>\n",
       "      <th>'cad'</th>\n",
       "      <th>'appet'</th>\n",
       "      <th>'pe'</th>\n",
       "      <th>'ane'</th>\n",
       "      <th>'class'</th>\n",
       "    </tr>\n",
       "  </thead>\n",
       "  <tbody>\n",
       "    <tr>\n",
       "      <th>0</th>\n",
       "      <td>48.0</td>\n",
       "      <td>80.0</td>\n",
       "      <td>1.020</td>\n",
       "      <td>1.0</td>\n",
       "      <td>0.0</td>\n",
       "      <td>NaN</td>\n",
       "      <td>normal</td>\n",
       "      <td>notpresent</td>\n",
       "      <td>notpresent</td>\n",
       "      <td>121.0</td>\n",
       "      <td>...</td>\n",
       "      <td>44.0</td>\n",
       "      <td>7800.0</td>\n",
       "      <td>5.2</td>\n",
       "      <td>yes</td>\n",
       "      <td>yes</td>\n",
       "      <td>no</td>\n",
       "      <td>good</td>\n",
       "      <td>no</td>\n",
       "      <td>no</td>\n",
       "      <td>ckd</td>\n",
       "    </tr>\n",
       "    <tr>\n",
       "      <th>1</th>\n",
       "      <td>7.0</td>\n",
       "      <td>50.0</td>\n",
       "      <td>1.020</td>\n",
       "      <td>4.0</td>\n",
       "      <td>0.0</td>\n",
       "      <td>NaN</td>\n",
       "      <td>normal</td>\n",
       "      <td>notpresent</td>\n",
       "      <td>notpresent</td>\n",
       "      <td>NaN</td>\n",
       "      <td>...</td>\n",
       "      <td>38.0</td>\n",
       "      <td>6000.0</td>\n",
       "      <td>NaN</td>\n",
       "      <td>no</td>\n",
       "      <td>no</td>\n",
       "      <td>no</td>\n",
       "      <td>good</td>\n",
       "      <td>no</td>\n",
       "      <td>no</td>\n",
       "      <td>ckd</td>\n",
       "    </tr>\n",
       "    <tr>\n",
       "      <th>2</th>\n",
       "      <td>62.0</td>\n",
       "      <td>80.0</td>\n",
       "      <td>1.010</td>\n",
       "      <td>2.0</td>\n",
       "      <td>3.0</td>\n",
       "      <td>normal</td>\n",
       "      <td>normal</td>\n",
       "      <td>notpresent</td>\n",
       "      <td>notpresent</td>\n",
       "      <td>423.0</td>\n",
       "      <td>...</td>\n",
       "      <td>31.0</td>\n",
       "      <td>7500.0</td>\n",
       "      <td>NaN</td>\n",
       "      <td>no</td>\n",
       "      <td>yes</td>\n",
       "      <td>no</td>\n",
       "      <td>poor</td>\n",
       "      <td>no</td>\n",
       "      <td>yes</td>\n",
       "      <td>ckd</td>\n",
       "    </tr>\n",
       "    <tr>\n",
       "      <th>3</th>\n",
       "      <td>48.0</td>\n",
       "      <td>70.0</td>\n",
       "      <td>1.005</td>\n",
       "      <td>4.0</td>\n",
       "      <td>0.0</td>\n",
       "      <td>normal</td>\n",
       "      <td>abnormal</td>\n",
       "      <td>present</td>\n",
       "      <td>notpresent</td>\n",
       "      <td>117.0</td>\n",
       "      <td>...</td>\n",
       "      <td>32.0</td>\n",
       "      <td>6700.0</td>\n",
       "      <td>3.9</td>\n",
       "      <td>yes</td>\n",
       "      <td>no</td>\n",
       "      <td>no</td>\n",
       "      <td>poor</td>\n",
       "      <td>yes</td>\n",
       "      <td>yes</td>\n",
       "      <td>ckd</td>\n",
       "    </tr>\n",
       "    <tr>\n",
       "      <th>4</th>\n",
       "      <td>51.0</td>\n",
       "      <td>80.0</td>\n",
       "      <td>1.010</td>\n",
       "      <td>2.0</td>\n",
       "      <td>0.0</td>\n",
       "      <td>normal</td>\n",
       "      <td>normal</td>\n",
       "      <td>notpresent</td>\n",
       "      <td>notpresent</td>\n",
       "      <td>106.0</td>\n",
       "      <td>...</td>\n",
       "      <td>35.0</td>\n",
       "      <td>7300.0</td>\n",
       "      <td>4.6</td>\n",
       "      <td>no</td>\n",
       "      <td>no</td>\n",
       "      <td>no</td>\n",
       "      <td>good</td>\n",
       "      <td>no</td>\n",
       "      <td>no</td>\n",
       "      <td>ckd</td>\n",
       "    </tr>\n",
       "  </tbody>\n",
       "</table>\n",
       "<p>5 rows × 25 columns</p>\n",
       "</div>"
      ],
      "text/plain": [
       "   'age'  'bp'   'sg'  'al'  'su'   'rbc'      'pc'       'pcc'        'ba'  \\\n",
       "0   48.0  80.0  1.020   1.0   0.0     NaN    normal  notpresent  notpresent   \n",
       "1    7.0  50.0  1.020   4.0   0.0     NaN    normal  notpresent  notpresent   \n",
       "2   62.0  80.0  1.010   2.0   3.0  normal    normal  notpresent  notpresent   \n",
       "3   48.0  70.0  1.005   4.0   0.0  normal  abnormal     present  notpresent   \n",
       "4   51.0  80.0  1.010   2.0   0.0  normal    normal  notpresent  notpresent   \n",
       "\n",
       "   'bgr'   ...    'pcv'  'wbcc'  'rbcc'  'htn'  'dm'  'cad'  'appet'  'pe'  \\\n",
       "0  121.0   ...     44.0  7800.0     5.2    yes   yes     no     good    no   \n",
       "1    NaN   ...     38.0  6000.0     NaN     no    no     no     good    no   \n",
       "2  423.0   ...     31.0  7500.0     NaN     no   yes     no     poor    no   \n",
       "3  117.0   ...     32.0  6700.0     3.9    yes    no     no     poor   yes   \n",
       "4  106.0   ...     35.0  7300.0     4.6     no    no     no     good    no   \n",
       "\n",
       "  'ane' 'class'  \n",
       "0    no     ckd  \n",
       "1    no     ckd  \n",
       "2   yes     ckd  \n",
       "3   yes     ckd  \n",
       "4    no     ckd  \n",
       "\n",
       "[5 rows x 25 columns]"
      ]
     },
     "execution_count": 47,
     "metadata": {},
     "output_type": "execute_result"
    }
   ],
   "source": [
    "df = pd.read_csv(\"./dataset/chronic_kidney_disease_full.csv\", na_values=['?','\\t?'])\n",
    "print(df.shape)\n",
    "df = df.drop(columns = ['id'])\n",
    "df.head()"
   ]
  },
  {
   "cell_type": "code",
   "execution_count": 49,
   "metadata": {
    "scrolled": true
   },
   "outputs": [
    {
     "data": {
      "text/plain": [
       "0"
      ]
     },
     "execution_count": 49,
     "metadata": {},
     "output_type": "execute_result"
    }
   ],
   "source": [
    "# Fill NA values with most frequent values in the column\n",
    "df = df.fillna(df.mode().iloc[0])\n",
    "df.isnull().sum().sum()\n"
   ]
  },
  {
   "cell_type": "code",
   "execution_count": 55,
   "metadata": {},
   "outputs": [],
   "source": [
    "new_col = []\n",
    "for col in df.columns:\n",
    "    col = col.replace(\"'\",'')\n",
    "    new_col.append(col)\n",
    "df.columns = new_col"
   ]
  },
  {
   "cell_type": "code",
   "execution_count": 56,
   "metadata": {},
   "outputs": [
    {
     "name": "stdout",
     "output_type": "stream",
     "text": [
      "categorical columns: ['rbc', 'pc', 'pcc', 'ba', 'htn', 'dm', 'cad', 'appet', 'pe', 'ane']\n",
      "\n",
      "numerical columns: ['age', 'bp', 'sg', 'al', 'su', 'bgr', 'bu', 'sc', 'sod', 'pot', 'hemo', 'pcv', 'wbcc', 'rbcc']\n",
      "\n"
     ]
    }
   ],
   "source": [
    "str_cols = []\n",
    "num_cols = []\n",
    "for col in df.drop(columns = 'class').columns:\n",
    "    if df[col].dtype != np.int64 and df[col].dtype != np.float64:\n",
    "        str_cols.append(col)\n",
    "    else:\n",
    "        num_cols.append(col)\n",
    "    \n",
    "print(\"categorical columns: {}\\n\".format(str_cols))\n",
    "print(\"numerical columns: {}\\n\".format(num_cols))\n"
   ]
  },
  {
   "cell_type": "code",
   "execution_count": 57,
   "metadata": {},
   "outputs": [
    {
     "name": "stdout",
     "output_type": "stream",
     "text": [
      "35 columns: ['age', 'bp', 'sg', 'al', 'su', 'bgr', 'bu', 'sc', 'sod', 'pot', 'hemo', 'pcv', 'wbcc', 'rbcc', 'class', 'rbc_abnormal', 'rbc_normal', 'pc_abnormal', 'pc_normal', 'pcc_notpresent', 'pcc_present', 'ba_notpresent', 'ba_present', 'htn_no', 'htn_yes', 'dm_no', 'dm_yes', 'cad_no', 'cad_yes', 'appet_good', 'appet_poor', 'pe_no', 'pe_yes', 'ane_no', 'ane_yes']\n"
     ]
    }
   ],
   "source": [
    "# num_cols = [\"age\",\"blood pressure\",\"blood glucose random\",\"blood urea\",\n",
    "#             \"serum creatinine\",\"sodium\",\"potassium\",\"hemoglobin\",\"packed cell volume\", \n",
    "#             \"white blood cell count\", \"red blood cell count\"]\n",
    "# str_cols = [x for x in df.columns if x not in num_cols]\n",
    "# print(\"categorical columns: {}\\n\".format(str_cols))\n",
    "# print(\"numerical columns: {}\\n\".format(num_cols))\n",
    "\n",
    "df_ecd = pd.get_dummies(df, columns=str_cols)\n",
    "print(\"{} columns: {}\".format(len(df_ecd.columns),df_ecd.columns.tolist()))"
   ]
  },
  {
   "cell_type": "markdown",
   "metadata": {},
   "source": [
    "### Optimal Tree"
   ]
  },
  {
   "cell_type": "code",
   "execution_count": 76,
   "metadata": {
    "scrolled": true
   },
   "outputs": [],
   "source": [
    "def find_best_clf(n, X, y, classifier, parameters, labels, cv=5):\n",
    "\n",
    "    best_para = []\n",
    "    best_tree = []\n",
    "    train_score = []\n",
    "    test_score = []\n",
    "    train_time = []\n",
    "    classification_time = []\n",
    "    \n",
    "    precision = []\n",
    "    recall = []\n",
    "    fmeasure = []\n",
    "    \n",
    "    for i in range(n):\n",
    "        print(\"Iteration {}\".format(i))\n",
    "        \n",
    "        X_train, X_test, y_train, y_test = train_test_split(X, y, test_size=0.33)\n",
    "        \n",
    "        gridsearch = GridSearchCV(clf_dt, parameters, cv=cv, return_train_score=True)\n",
    "        gridsearch.fit(X_train, y_train)\n",
    "        grid_search_result = pd.DataFrame(gridsearch.cv_results_ )\n",
    "        \n",
    "        optimal_tree = gridsearch.best_estimator_\n",
    "        \n",
    "        ###########################################################\n",
    "        \n",
    "        best_para.append(gridsearch.best_params_)\n",
    "        best_tree.append(optimal_tree)\n",
    "        test_score.append(optimal_tree.score(X_test, y_test))\n",
    "        train_score.append(gridsearch.cv_results_['mean_train_score'][gridsearch.best_index_])\n",
    "        classification_time.append(gridsearch.cv_results_['mean_fit_time'][gridsearch.best_index_])\n",
    "        train_time.append(gridsearch.cv_results_['mean_fit_time'][gridsearch.best_index_])\n",
    "        \n",
    "        y_pred = optimal_tree.predict(X_test)\n",
    "        pr, r, fs, _ = precision_recall_fscore_support(y_true=y_test, y_pred=y_pred, labels=labels)\n",
    "        precision.append(pr)\n",
    "        recall.append(r)\n",
    "        fmeasure.append(fs)\n",
    "        \n",
    "    return best_para, best_tree, train_score, test_score, train_time, classification_time, precision, recall, fmeasure"
   ]
  },
  {
   "cell_type": "code",
   "execution_count": 77,
   "metadata": {
    "scrolled": false
   },
   "outputs": [
    {
     "name": "stdout",
     "output_type": "stream",
     "text": [
      "Iteration 0\n"
     ]
    },
    {
     "name": "stderr",
     "output_type": "stream",
     "text": [
      "C:\\ProgramData\\Anaconda3\\lib\\site-packages\\sklearn\\model_selection\\_search.py:841: DeprecationWarning: The default of the `iid` parameter will change from True to False in version 0.22 and will be removed in 0.24. This will change numeric results when test-set sizes are unequal.\n",
      "  DeprecationWarning)\n"
     ]
    },
    {
     "name": "stdout",
     "output_type": "stream",
     "text": [
      "Iteration 1\n"
     ]
    },
    {
     "name": "stderr",
     "output_type": "stream",
     "text": [
      "C:\\ProgramData\\Anaconda3\\lib\\site-packages\\sklearn\\model_selection\\_search.py:841: DeprecationWarning: The default of the `iid` parameter will change from True to False in version 0.22 and will be removed in 0.24. This will change numeric results when test-set sizes are unequal.\n",
      "  DeprecationWarning)\n"
     ]
    },
    {
     "name": "stdout",
     "output_type": "stream",
     "text": [
      "Iteration 2\n"
     ]
    },
    {
     "name": "stderr",
     "output_type": "stream",
     "text": [
      "C:\\ProgramData\\Anaconda3\\lib\\site-packages\\sklearn\\model_selection\\_search.py:841: DeprecationWarning: The default of the `iid` parameter will change from True to False in version 0.22 and will be removed in 0.24. This will change numeric results when test-set sizes are unequal.\n",
      "  DeprecationWarning)\n"
     ]
    },
    {
     "name": "stdout",
     "output_type": "stream",
     "text": [
      "Iteration 3\n"
     ]
    },
    {
     "name": "stderr",
     "output_type": "stream",
     "text": [
      "C:\\ProgramData\\Anaconda3\\lib\\site-packages\\sklearn\\model_selection\\_search.py:841: DeprecationWarning: The default of the `iid` parameter will change from True to False in version 0.22 and will be removed in 0.24. This will change numeric results when test-set sizes are unequal.\n",
      "  DeprecationWarning)\n"
     ]
    },
    {
     "name": "stdout",
     "output_type": "stream",
     "text": [
      "Iteration 4\n"
     ]
    },
    {
     "name": "stderr",
     "output_type": "stream",
     "text": [
      "C:\\ProgramData\\Anaconda3\\lib\\site-packages\\sklearn\\model_selection\\_search.py:841: DeprecationWarning: The default of the `iid` parameter will change from True to False in version 0.22 and will be removed in 0.24. This will change numeric results when test-set sizes are unequal.\n",
      "  DeprecationWarning)\n"
     ]
    },
    {
     "name": "stdout",
     "output_type": "stream",
     "text": [
      "Iteration 5\n"
     ]
    },
    {
     "name": "stderr",
     "output_type": "stream",
     "text": [
      "C:\\ProgramData\\Anaconda3\\lib\\site-packages\\sklearn\\model_selection\\_search.py:841: DeprecationWarning: The default of the `iid` parameter will change from True to False in version 0.22 and will be removed in 0.24. This will change numeric results when test-set sizes are unequal.\n",
      "  DeprecationWarning)\n"
     ]
    },
    {
     "name": "stdout",
     "output_type": "stream",
     "text": [
      "Iteration 6\n"
     ]
    },
    {
     "name": "stderr",
     "output_type": "stream",
     "text": [
      "C:\\ProgramData\\Anaconda3\\lib\\site-packages\\sklearn\\model_selection\\_search.py:841: DeprecationWarning: The default of the `iid` parameter will change from True to False in version 0.22 and will be removed in 0.24. This will change numeric results when test-set sizes are unequal.\n",
      "  DeprecationWarning)\n"
     ]
    },
    {
     "name": "stdout",
     "output_type": "stream",
     "text": [
      "Iteration 7\n"
     ]
    },
    {
     "name": "stderr",
     "output_type": "stream",
     "text": [
      "C:\\ProgramData\\Anaconda3\\lib\\site-packages\\sklearn\\model_selection\\_search.py:841: DeprecationWarning: The default of the `iid` parameter will change from True to False in version 0.22 and will be removed in 0.24. This will change numeric results when test-set sizes are unequal.\n",
      "  DeprecationWarning)\n"
     ]
    },
    {
     "name": "stdout",
     "output_type": "stream",
     "text": [
      "Iteration 8\n"
     ]
    },
    {
     "name": "stderr",
     "output_type": "stream",
     "text": [
      "C:\\ProgramData\\Anaconda3\\lib\\site-packages\\sklearn\\model_selection\\_search.py:841: DeprecationWarning: The default of the `iid` parameter will change from True to False in version 0.22 and will be removed in 0.24. This will change numeric results when test-set sizes are unequal.\n",
      "  DeprecationWarning)\n"
     ]
    },
    {
     "name": "stdout",
     "output_type": "stream",
     "text": [
      "Iteration 9\n"
     ]
    },
    {
     "name": "stderr",
     "output_type": "stream",
     "text": [
      "C:\\ProgramData\\Anaconda3\\lib\\site-packages\\sklearn\\model_selection\\_search.py:841: DeprecationWarning: The default of the `iid` parameter will change from True to False in version 0.22 and will be removed in 0.24. This will change numeric results when test-set sizes are unequal.\n",
      "  DeprecationWarning)\n"
     ]
    }
   ],
   "source": [
    "X = df_ecd.drop(columns='class')\n",
    "y = df_ecd['class']\n",
    "\n",
    "parameters = {\"max_depth\": [1, 5, 8, 10, 20, 100, 1000, 10000],\n",
    "              \"min_samples_split\": [2, 3, 5, 10, 50, 100, 500, 1000],\n",
    "              \"min_samples_leaf\": [1, 5, 10, 100, 1000, 10000],\n",
    "              \"max_leaf_nodes\": [None, 10, 100, 1000, 10000],\n",
    "              }\n",
    "labels = [\"ckd\",\"notckd\"]\n",
    "\n",
    "clf_dt = DecisionTreeClassifier()\n",
    "best_para, best_tree, train_score, test_score, train_time, classification_time ,precision, recall, fmeasure= find_best_clf(10, X, y, clf_dt, parameters, labels)\n"
   ]
  },
  {
   "cell_type": "code",
   "execution_count": 78,
   "metadata": {},
   "outputs": [
    {
     "name": "stdout",
     "output_type": "stream",
     "text": [
      "Average train_score: 0.9983212264644561\n",
      "Average test_score: 0.9780303030303031\n",
      "Average train_time: 0.0019377040863037109\n",
      "Average classification_time: 0.0019377040863037109\n"
     ]
    }
   ],
   "source": [
    "for stats, name in zip([train_score, test_score, train_time, classification_time], [\"train_score\", \"test_score\", \"train_time\", \"classification_time\"]):\n",
    "    print(\"Average {}: {}\".format(name, np.average(stats)))\n",
    "\n"
   ]
  },
  {
   "cell_type": "code",
   "execution_count": 66,
   "metadata": {},
   "outputs": [
    {
     "data": {
      "text/plain": [
       "4.400000000000014"
      ]
     },
     "execution_count": 66,
     "metadata": {},
     "output_type": "execute_result"
    }
   ],
   "source": [
    "(1-0.9666666666666666)*df.shape[0]*0.33"
   ]
  },
  {
   "cell_type": "code",
   "execution_count": 79,
   "metadata": {},
   "outputs": [
    {
     "name": "stdout",
     "output_type": "stream",
     "text": [
      "Average ckd precision: 0.9758064516129032\n",
      "Average notckd precision: 0.9758064516129032\n",
      "Average ckd recall: 0.9794520547945205\n",
      "Average notckd recall: 0.9794520547945205\n",
      "Average ckd fmeasure: 0.9771137952956135\n",
      "Average notckd fmeasure: 0.9771137952956135\n"
     ]
    }
   ],
   "source": [
    "for stats, name in zip([precision, recall, fmeasure], [\"precision\", \"recall\", \"fmeasure\"]):\n",
    "    print(\"Average ckd {}: {}\".format(name, np.average(stats[0])))\n",
    "    print(\"Average notckd {}: {}\".format(name, np.average(stats[0])))"
   ]
  },
  {
   "cell_type": "markdown",
   "metadata": {},
   "source": [
    "### Default tree"
   ]
  },
  {
   "cell_type": "code",
   "execution_count": 72,
   "metadata": {},
   "outputs": [],
   "source": [
    "import time\n",
    "from sklearn.metrics import precision_recall_fscore_support\n",
    "def repeat_clf_n_times(n, X, y, classifier, labels):\n",
    "\n",
    "    trees = []\n",
    "    train_score = []\n",
    "    test_score = []\n",
    "    train_time = []\n",
    "    classification_time = []\n",
    "    \n",
    "    precision = []\n",
    "    recall = []\n",
    "    fmeasure = []\n",
    "    \n",
    "    \n",
    "    for i in range(n):\n",
    "        print(\"Iteration {}\".format(i))\n",
    "        \n",
    "        X_train, X_test, y_train, y_test = train_test_split(X, y, test_size=0.33)\n",
    "        \n",
    "        start_time = time.time()\n",
    "        classifier.fit(X_train, y_train)\n",
    "        tr_time = time.time() - start_time\n",
    "        \n",
    "        start_time = time.time()\n",
    "        y_pred = classifier.predict(X_test)\n",
    "        cls_time = time.time() - start_time\n",
    "        \n",
    "        trees.append(classifier)\n",
    "        train_score.append(classifier.score(X_train, y_train))\n",
    "        test_score.append(classifier.score(X_test, y_test))\n",
    "        \n",
    "        train_time.append(tr_time)\n",
    "        classification_time.append(cls_time)\n",
    "        \n",
    "        \n",
    "        pr, r, fs, _ = precision_recall_fscore_support(y_true=y_test, y_pred=y_pred, labels=labels)\n",
    "        precision.append(pr)\n",
    "        recall.append(r)\n",
    "        fmeasure.append(fs)\n",
    "        \n",
    "    return trees, train_score, test_score, train_time, classification_time, precision, recall, fmeasure"
   ]
  },
  {
   "cell_type": "code",
   "execution_count": 73,
   "metadata": {},
   "outputs": [
    {
     "name": "stdout",
     "output_type": "stream",
     "text": [
      "Iteration 0\n",
      "Iteration 1\n",
      "Iteration 2\n",
      "Iteration 3\n",
      "Iteration 4\n",
      "Iteration 5\n",
      "Iteration 6\n",
      "Iteration 7\n",
      "Iteration 8\n",
      "Iteration 9\n"
     ]
    }
   ],
   "source": [
    "clf = DecisionTreeClassifier()\n",
    "labels = [\"ckd\",\"notckd\"]\n",
    "trees, train_score, test_score, train_time, classification_time, precision, recall, fmeasure = repeat_clf_n_times(10, X, y, clf, labels)"
   ]
  },
  {
   "cell_type": "code",
   "execution_count": 74,
   "metadata": {},
   "outputs": [
    {
     "name": "stdout",
     "output_type": "stream",
     "text": [
      "Average train_score: 1.0\n",
      "Average test_score: 0.9765151515151516\n",
      "Average train_time: 0.002096080780029297\n",
      "Average classification_time: 0.0005016565322875976\n"
     ]
    }
   ],
   "source": [
    "for stats, name in zip([train_score, test_score, train_time, classification_time], [\"train_score\", \"test_score\", \"train_time\", \"classification_time\"]):\n",
    "    print(\"Average {}: {}\".format(name, np.average(stats)))\n"
   ]
  },
  {
   "cell_type": "code",
   "execution_count": 65,
   "metadata": {},
   "outputs": [
    {
     "data": {
      "text/plain": [
       "4.899999999999999"
      ]
     },
     "execution_count": 65,
     "metadata": {},
     "output_type": "execute_result"
    }
   ],
   "source": [
    "(1-0.9628787878787879) * df.shape[0] * 0.33"
   ]
  },
  {
   "cell_type": "code",
   "execution_count": 75,
   "metadata": {},
   "outputs": [
    {
     "name": "stdout",
     "output_type": "stream",
     "text": [
      "Average ckd precision: 0.9901960784313726\n",
      "Average notckd precision: 0.9901960784313726\n",
      "Average ckd recall: 0.9939024390243902\n",
      "Average notckd recall: 0.9939024390243902\n",
      "Average ckd fmeasure: 0.9919820202879184\n",
      "Average notckd fmeasure: 0.9919820202879184\n"
     ]
    }
   ],
   "source": [
    "for stats, name in zip([precision, recall, fmeasure], [\"precision\", \"recall\", \"fmeasure\"]):\n",
    "    print(\"Average ckd {}: {}\".format(name, np.average(stats[0])))\n",
    "    print(\"Average notckd {}: {}\".format(name, np.average(stats[0])))"
   ]
  },
  {
   "cell_type": "code",
   "execution_count": null,
   "metadata": {},
   "outputs": [],
   "source": []
  }
 ],
 "metadata": {
  "kernelspec": {
   "display_name": "Python 3",
   "language": "python",
   "name": "python3"
  },
  "language_info": {
   "codemirror_mode": {
    "name": "ipython",
    "version": 3
   },
   "file_extension": ".py",
   "mimetype": "text/x-python",
   "name": "python",
   "nbconvert_exporter": "python",
   "pygments_lexer": "ipython3",
   "version": "3.7.1"
  }
 },
 "nbformat": 4,
 "nbformat_minor": 2
}
